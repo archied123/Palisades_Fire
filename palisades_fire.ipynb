{
 "cells": [
  {
   "cell_type": "code",
   "execution_count": null,
   "metadata": {},
   "outputs": [
    {
     "data": {
      "text/html": [
       "\n",
       "            <style>\n",
       "                .geemap-dark {\n",
       "                    --jp-widgets-color: white;\n",
       "                    --jp-widgets-label-color: white;\n",
       "                    --jp-ui-font-color1: white;\n",
       "                    --jp-layout-color2: #454545;\n",
       "                    background-color: #383838;\n",
       "                }\n",
       "\n",
       "                .geemap-dark .jupyter-button {\n",
       "                    --jp-layout-color3: #383838;\n",
       "                }\n",
       "\n",
       "                .geemap-colab {\n",
       "                    background-color: var(--colab-primary-surface-color, white);\n",
       "                }\n",
       "\n",
       "                .geemap-colab .jupyter-button {\n",
       "                    --jp-layout-color3: var(--colab-primary-surface-color, white);\n",
       "                }\n",
       "            </style>\n",
       "            "
      ],
      "text/plain": [
       "<IPython.core.display.HTML object>"
      ]
     },
     "metadata": {},
     "output_type": "display_data"
    }
   ],
   "source": [
    "import ee\n",
    "import geemap\n",
    "import geemap.datasets as gds\n",
    "import numpy as np\n",
    "import matplotlib.pyplot as plt\n",
    "import ipywidgets as widget\n",
    "from ipywidgets import Output\n",
    "from datetime import datetime\n",
    "\n",
    "import spectral_indices as spec_ind\n",
    "import vis_params as vis"
   ]
  },
  {
   "cell_type": "code",
   "execution_count": 46,
   "metadata": {},
   "outputs": [
    {
     "data": {
      "text/html": [
       "\n",
       "            <style>\n",
       "                .geemap-dark {\n",
       "                    --jp-widgets-color: white;\n",
       "                    --jp-widgets-label-color: white;\n",
       "                    --jp-ui-font-color1: white;\n",
       "                    --jp-layout-color2: #454545;\n",
       "                    background-color: #383838;\n",
       "                }\n",
       "\n",
       "                .geemap-dark .jupyter-button {\n",
       "                    --jp-layout-color3: #383838;\n",
       "                }\n",
       "\n",
       "                .geemap-colab {\n",
       "                    background-color: var(--colab-primary-surface-color, white);\n",
       "                }\n",
       "\n",
       "                .geemap-colab .jupyter-button {\n",
       "                    --jp-layout-color3: var(--colab-primary-surface-color, white);\n",
       "                }\n",
       "            </style>\n",
       "            "
      ],
      "text/plain": [
       "<IPython.core.display.HTML object>"
      ]
     },
     "metadata": {},
     "output_type": "display_data"
    },
    {
     "data": {
      "text/plain": [
       "True"
      ]
     },
     "execution_count": 46,
     "metadata": {},
     "output_type": "execute_result"
    }
   ],
   "source": [
    "ee.Authenticate()"
   ]
  },
  {
   "cell_type": "code",
   "execution_count": 47,
   "metadata": {},
   "outputs": [
    {
     "data": {
      "text/html": [
       "\n",
       "            <style>\n",
       "                .geemap-dark {\n",
       "                    --jp-widgets-color: white;\n",
       "                    --jp-widgets-label-color: white;\n",
       "                    --jp-ui-font-color1: white;\n",
       "                    --jp-layout-color2: #454545;\n",
       "                    background-color: #383838;\n",
       "                }\n",
       "\n",
       "                .geemap-dark .jupyter-button {\n",
       "                    --jp-layout-color3: #383838;\n",
       "                }\n",
       "\n",
       "                .geemap-colab {\n",
       "                    background-color: var(--colab-primary-surface-color, white);\n",
       "                }\n",
       "\n",
       "                .geemap-colab .jupyter-button {\n",
       "                    --jp-layout-color3: var(--colab-primary-surface-color, white);\n",
       "                }\n",
       "            </style>\n",
       "            "
      ],
      "text/plain": [
       "<IPython.core.display.HTML object>"
      ]
     },
     "metadata": {},
     "output_type": "display_data"
    }
   ],
   "source": [
    "ee.Initialize()\n",
    "geemap.ee_initialize()"
   ]
  },
  {
   "cell_type": "markdown",
   "metadata": {},
   "source": [
    "Define the Palisades Fire AOI for processing"
   ]
  },
  {
   "cell_type": "code",
   "execution_count": 48,
   "metadata": {},
   "outputs": [
    {
     "data": {
      "text/html": [
       "\n",
       "            <style>\n",
       "                .geemap-dark {\n",
       "                    --jp-widgets-color: white;\n",
       "                    --jp-widgets-label-color: white;\n",
       "                    --jp-ui-font-color1: white;\n",
       "                    --jp-layout-color2: #454545;\n",
       "                    background-color: #383838;\n",
       "                }\n",
       "\n",
       "                .geemap-dark .jupyter-button {\n",
       "                    --jp-layout-color3: #383838;\n",
       "                }\n",
       "\n",
       "                .geemap-colab {\n",
       "                    background-color: var(--colab-primary-surface-color, white);\n",
       "                }\n",
       "\n",
       "                .geemap-colab .jupyter-button {\n",
       "                    --jp-layout-color3: var(--colab-primary-surface-color, white);\n",
       "                }\n",
       "            </style>\n",
       "            "
      ],
      "text/plain": [
       "<IPython.core.display.HTML object>"
      ]
     },
     "metadata": {},
     "output_type": "display_data"
    }
   ],
   "source": [
    "# Define the area of interest (Los Angeles)\n",
    "aoi = ee.Geometry.Rectangle([-119, 33.5, -117, 35])  # LA region\n",
    "\n",
    "palisades_fire = ee.Geometry.Polygon([\n",
    "  [\n",
    "    [-118.735, 34.142],  #// Top left\n",
    "    [-118.496, 34.142],   #// Top right\n",
    "    [-118.496, 34.037],   #// Bottom right\n",
    "    [-118.735, 34.037]   #// Bottom left\n",
    "  ]\n",
    "]);\n",
    "\n",
    "palisades_subregion1 = ee.Geometry.Polygon([\n",
    "  [\n",
    "    [-118.65, 34.065],  # Top left\n",
    "    [-118.58, 34.065],   # Top right\n",
    "    [-118.58, 34.045],  # Bottom right\n",
    "    [-118.65, 34.045]   # Bottom left\n",
    "  ]\n",
    "]);\n",
    "\n",
    "palisades_subregion2 = ee.Geometry.Polygon([\n",
    "  [\n",
    "    [-118.548, 34.120], # Top left\n",
    "    [-118.515, 34.120], # Top right\n",
    "    [-118.515, 34.090], # Bottom right\n",
    "    [-118.548, 34.090]  # Bottom left\n",
    "  ]\n",
    "]);\n",
    "\n",
    "# Convert the Geometry to FeatureCollection\n",
    "pf_fc = ee.FeatureCollection([ee.Feature(palisades_fire)])\n",
    "pf_subregion1_fc = ee.FeatureCollection([ee.Feature(palisades_subregion1)])\n",
    "pf_subregion2_fc = ee.FeatureCollection([ee.Feature(palisades_subregion2)])"
   ]
  },
  {
   "cell_type": "markdown",
   "metadata": {},
   "source": [
    "Use Sentinel-2 imagery to generate a pre-fire/post-fire image"
   ]
  },
  {
   "cell_type": "code",
   "execution_count": 49,
   "metadata": {},
   "outputs": [
    {
     "data": {
      "text/html": [
       "\n",
       "            <style>\n",
       "                .geemap-dark {\n",
       "                    --jp-widgets-color: white;\n",
       "                    --jp-widgets-label-color: white;\n",
       "                    --jp-ui-font-color1: white;\n",
       "                    --jp-layout-color2: #454545;\n",
       "                    background-color: #383838;\n",
       "                }\n",
       "\n",
       "                .geemap-dark .jupyter-button {\n",
       "                    --jp-layout-color3: #383838;\n",
       "                }\n",
       "\n",
       "                .geemap-colab {\n",
       "                    background-color: var(--colab-primary-surface-color, white);\n",
       "                }\n",
       "\n",
       "                .geemap-colab .jupyter-button {\n",
       "                    --jp-layout-color3: var(--colab-primary-surface-color, white);\n",
       "                }\n",
       "            </style>\n",
       "            "
      ],
      "text/plain": [
       "<IPython.core.display.HTML object>"
      ]
     },
     "metadata": {},
     "output_type": "display_data"
    }
   ],
   "source": [
    "# Pre-fire image - Took the mean over period preceeding\n",
    "pre_fire = (\n",
    "    ee.ImageCollection(\"COPERNICUS/S2_SR_HARMONIZED\")\n",
    "    .filterBounds(aoi)\n",
    "    .filterDate(\"2024-11-01\", \"2025-01-03\")  # BEFORE the fire\n",
    "    .filter(ee.Filter.lt(\"CLOUDY_PIXEL_PERCENTAGE\", 10))\n",
    "    .mean()\n",
    "    .clip(palisades_fire)\n",
    ")\n",
    "\n",
    "# Post-fire image - Took the mean over period after\n",
    "post_fire = (\n",
    "    ee.ImageCollection(\"COPERNICUS/S2_SR_HARMONIZED\")\n",
    "    .filterBounds(aoi)\n",
    "    .filterDate(\"2025-01-07\", \"2025-02-07\")  # AFTER the fire\n",
    "    .filter(ee.Filter.lt(\"CLOUDY_PIXEL_PERCENTAGE\", 10))\n",
    "    .mean()\n",
    "    .clip(palisades_fire)\n",
    ")"
   ]
  },
  {
   "cell_type": "markdown",
   "metadata": {},
   "source": [
    "Generate Map of RGB/False Colour Imagery"
   ]
  },
  {
   "cell_type": "code",
   "execution_count": 50,
   "metadata": {},
   "outputs": [
    {
     "data": {
      "text/html": [
       "\n",
       "            <style>\n",
       "                .geemap-dark {\n",
       "                    --jp-widgets-color: white;\n",
       "                    --jp-widgets-label-color: white;\n",
       "                    --jp-ui-font-color1: white;\n",
       "                    --jp-layout-color2: #454545;\n",
       "                    background-color: #383838;\n",
       "                }\n",
       "\n",
       "                .geemap-dark .jupyter-button {\n",
       "                    --jp-layout-color3: #383838;\n",
       "                }\n",
       "\n",
       "                .geemap-colab {\n",
       "                    background-color: var(--colab-primary-surface-color, white);\n",
       "                }\n",
       "\n",
       "                .geemap-colab .jupyter-button {\n",
       "                    --jp-layout-color3: var(--colab-primary-surface-color, white);\n",
       "                }\n",
       "            </style>\n",
       "            "
      ],
      "text/plain": [
       "<IPython.core.display.HTML object>"
      ]
     },
     "metadata": {},
     "output_type": "display_data"
    },
    {
     "data": {
      "application/vnd.jupyter.widget-view+json": {
       "model_id": "8281e2f6e2174be3bc7826de1d086cd7",
       "version_major": 2,
       "version_minor": 0
      },
      "text/plain": [
       "Map(center=[34.08069, -118.616274], controls=(WidgetControl(options=['position', 'transparent_bg'], widget=Sea…"
      ]
     },
     "metadata": {},
     "output_type": "display_data"
    }
   ],
   "source": [
    "# Create Map\n",
    "Map = geemap.Map()\n",
    "\n",
    "# Update center to Los Angeles\n",
    "Map.setCenter(-118.616274, 34.080690, 12)  \n",
    "\n",
    "# Add layers\n",
    "Map.addLayer(pre_fire, vis.vis_false_colour, 'Pre-Fire, FC')\n",
    "Map.addLayer(post_fire, vis.vis_false_colour, 'Post-Fire, FC')\n",
    "Map.addLayer(pre_fire, vis.vis_rgb, 'Pre-Fire, RGB')\n",
    "Map.addLayer(post_fire, vis.vis_rgb, 'Post-Fire RGB')\n",
    "\n",
    "# Add the polygon to the map with a red border and transparent fill\n",
    "Map.addLayer(pf_fc.style(**vis.vis_large_polygon), {}, 'Palisades Fire')\n",
    "\n",
    "# Show Map\n",
    "Map"
   ]
  },
  {
   "cell_type": "markdown",
   "metadata": {},
   "source": [
    "Perform Band Processing to generate NDVI/NDMI/dNBR"
   ]
  },
  {
   "cell_type": "code",
   "execution_count": 51,
   "metadata": {},
   "outputs": [
    {
     "data": {
      "text/html": [
       "\n",
       "            <style>\n",
       "                .geemap-dark {\n",
       "                    --jp-widgets-color: white;\n",
       "                    --jp-widgets-label-color: white;\n",
       "                    --jp-ui-font-color1: white;\n",
       "                    --jp-layout-color2: #454545;\n",
       "                    background-color: #383838;\n",
       "                }\n",
       "\n",
       "                .geemap-dark .jupyter-button {\n",
       "                    --jp-layout-color3: #383838;\n",
       "                }\n",
       "\n",
       "                .geemap-colab {\n",
       "                    background-color: var(--colab-primary-surface-color, white);\n",
       "                }\n",
       "\n",
       "                .geemap-colab .jupyter-button {\n",
       "                    --jp-layout-color3: var(--colab-primary-surface-color, white);\n",
       "                }\n",
       "            </style>\n",
       "            "
      ],
      "text/plain": [
       "<IPython.core.display.HTML object>"
      ]
     },
     "metadata": {},
     "output_type": "display_data"
    }
   ],
   "source": [
    "# Create an instance of the SpectralIndices class  \n",
    "spectral_indices = spec_ind.SpectralIndices() \n",
    "\n",
    "#Calculate NDVI for pre-fire and post-fire images\n",
    "NDVI_pre_fire = spectral_indices.calculate_ndvi(pre_fire)\n",
    "NDVI_post_fire = spectral_indices.calculate_ndvi(post_fire)\n",
    "dNDVI = spectral_indices.calculate_dndvi(NDVI_pre_fire, NDVI_post_fire)"
   ]
  },
  {
   "cell_type": "code",
   "execution_count": 52,
   "metadata": {},
   "outputs": [
    {
     "data": {
      "text/html": [
       "\n",
       "            <style>\n",
       "                .geemap-dark {\n",
       "                    --jp-widgets-color: white;\n",
       "                    --jp-widgets-label-color: white;\n",
       "                    --jp-ui-font-color1: white;\n",
       "                    --jp-layout-color2: #454545;\n",
       "                    background-color: #383838;\n",
       "                }\n",
       "\n",
       "                .geemap-dark .jupyter-button {\n",
       "                    --jp-layout-color3: #383838;\n",
       "                }\n",
       "\n",
       "                .geemap-colab {\n",
       "                    background-color: var(--colab-primary-surface-color, white);\n",
       "                }\n",
       "\n",
       "                .geemap-colab .jupyter-button {\n",
       "                    --jp-layout-color3: var(--colab-primary-surface-color, white);\n",
       "                }\n",
       "            </style>\n",
       "            "
      ],
      "text/plain": [
       "<IPython.core.display.HTML object>"
      ]
     },
     "metadata": {},
     "output_type": "display_data"
    }
   ],
   "source": [
    "#Calculate NBR for pre-fire and post-fire images\n",
    "NBR_pre_fire = spectral_indices.calculate_nbr(pre_fire)\n",
    "NBR_post_fire = spectral_indices.calculate_nbr(post_fire)\n",
    "dNBR = spectral_indices.calculate_dnbr(NBR_pre_fire, NBR_post_fire)"
   ]
  },
  {
   "cell_type": "markdown",
   "metadata": {},
   "source": [
    "Plot the NDVI and dNBR Maps"
   ]
  },
  {
   "cell_type": "code",
   "execution_count": 53,
   "metadata": {},
   "outputs": [
    {
     "data": {
      "text/html": [
       "\n",
       "            <style>\n",
       "                .geemap-dark {\n",
       "                    --jp-widgets-color: white;\n",
       "                    --jp-widgets-label-color: white;\n",
       "                    --jp-ui-font-color1: white;\n",
       "                    --jp-layout-color2: #454545;\n",
       "                    background-color: #383838;\n",
       "                }\n",
       "\n",
       "                .geemap-dark .jupyter-button {\n",
       "                    --jp-layout-color3: #383838;\n",
       "                }\n",
       "\n",
       "                .geemap-colab {\n",
       "                    background-color: var(--colab-primary-surface-color, white);\n",
       "                }\n",
       "\n",
       "                .geemap-colab .jupyter-button {\n",
       "                    --jp-layout-color3: var(--colab-primary-surface-color, white);\n",
       "                }\n",
       "            </style>\n",
       "            "
      ],
      "text/plain": [
       "<IPython.core.display.HTML object>"
      ]
     },
     "metadata": {},
     "output_type": "display_data"
    },
    {
     "data": {
      "application/vnd.jupyter.widget-view+json": {
       "model_id": "e69315f7465848e09ac5670ca15ced4e",
       "version_major": 2,
       "version_minor": 0
      },
      "text/plain": [
       "Map(center=[34.08069, -118.616274], controls=(WidgetControl(options=['position', 'transparent_bg'], widget=Sea…"
      ]
     },
     "metadata": {},
     "output_type": "display_data"
    }
   ],
   "source": [
    "# Create Map\n",
    "Map = geemap.Map()\n",
    "\n",
    "# Update center to Los Angeles\n",
    "Map.setCenter(-118.616274, 34.080690, 12)  \n",
    "\n",
    "# Add the polygon to the map with a red border and transparent fill\n",
    "Map.addLayer(pf_fc.style(**vis.vis_large_polygon), {}, 'Palisades Fire Boundary')\n",
    "\n",
    "# Add layers\n",
    "Map.addLayer(NDVI_pre_fire, vis.NDVI_vis_params, 'Pre-Fire, NDVI')\n",
    "Map.addLayer(NDVI_post_fire, vis.NDVI_vis_params, 'Post-Fire, NDVI')\n",
    "\n",
    "# Create the map and add the legend\n",
    "Map.add_legend(title=\"NDVI Classes\", keys=vis.NDVI_legend_keys, colors=vis.NDVI_legend_colors)\n",
    "\n",
    "# Show Map\n",
    "Map"
   ]
  },
  {
   "cell_type": "code",
   "execution_count": null,
   "metadata": {},
   "outputs": [
    {
     "data": {
      "text/html": [
       "\n",
       "            <style>\n",
       "                .geemap-dark {\n",
       "                    --jp-widgets-color: white;\n",
       "                    --jp-widgets-label-color: white;\n",
       "                    --jp-ui-font-color1: white;\n",
       "                    --jp-layout-color2: #454545;\n",
       "                    background-color: #383838;\n",
       "                }\n",
       "\n",
       "                .geemap-dark .jupyter-button {\n",
       "                    --jp-layout-color3: #383838;\n",
       "                }\n",
       "\n",
       "                .geemap-colab {\n",
       "                    background-color: var(--colab-primary-surface-color, white);\n",
       "                }\n",
       "\n",
       "                .geemap-colab .jupyter-button {\n",
       "                    --jp-layout-color3: var(--colab-primary-surface-color, white);\n",
       "                }\n",
       "            </style>\n",
       "            "
      ],
      "text/plain": [
       "<IPython.core.display.HTML object>"
      ]
     },
     "metadata": {},
     "output_type": "display_data"
    },
    {
     "data": {
      "application/vnd.jupyter.widget-view+json": {
       "model_id": "58929f560d724d1e9d2af21e7e86ce84",
       "version_major": 2,
       "version_minor": 0
      },
      "text/plain": [
       "Map(center=[34.08069, -118.616274], controls=(WidgetControl(options=['position', 'transparent_bg'], widget=Sea…"
      ]
     },
     "metadata": {},
     "output_type": "display_data"
    }
   ],
   "source": [
    "# Create Map\n",
    "Map = geemap.Map()\n",
    "\n",
    "# Update center to Los Angeles\n",
    "Map.setCenter(-118.616274, 34.080690, 12)  \n",
    "\n",
    "# Add the polygon to the map with a red border and transparent fill\n",
    "Map.addLayer(pf_fc.style(**vis.vis_large_polygon), {}, 'Palisades Fire Boundary')\n",
    "\n",
    "#Add Layers\n",
    "Map.addLayer(dNBR, vis.dNBR_vis_params, \"dNBR (Burn Severity)\")\n",
    "Map.add_legend(title=\"dNBR Burn Severity\", keys=vis.dNBR_legend_keys, colors=vis.dNBR_legend_colors)\n",
    "\n",
    "Map.addLayer(pf_subregion1_fc.style(**vis.vis_small_polygon), {}, 'Subregion(1)')\n",
    "Map.addLayer(pf_subregion2_fc.style(**vis.vis_small_polygon), {}, 'Subregion(2)')\n",
    "\n",
    "Map"
   ]
  },
  {
   "cell_type": "markdown",
   "metadata": {},
   "source": [
    "Generate an extended image collection so that we can extract timeseries information to see recovery rates"
   ]
  },
  {
   "cell_type": "code",
   "execution_count": 55,
   "metadata": {},
   "outputs": [
    {
     "data": {
      "text/html": [
       "\n",
       "            <style>\n",
       "                .geemap-dark {\n",
       "                    --jp-widgets-color: white;\n",
       "                    --jp-widgets-label-color: white;\n",
       "                    --jp-ui-font-color1: white;\n",
       "                    --jp-layout-color2: #454545;\n",
       "                    background-color: #383838;\n",
       "                }\n",
       "\n",
       "                .geemap-dark .jupyter-button {\n",
       "                    --jp-layout-color3: #383838;\n",
       "                }\n",
       "\n",
       "                .geemap-colab {\n",
       "                    background-color: var(--colab-primary-surface-color, white);\n",
       "                }\n",
       "\n",
       "                .geemap-colab .jupyter-button {\n",
       "                    --jp-layout-color3: var(--colab-primary-surface-color, white);\n",
       "                }\n",
       "            </style>\n",
       "            "
      ],
      "text/plain": [
       "<IPython.core.display.HTML object>"
      ]
     },
     "metadata": {},
     "output_type": "display_data"
    }
   ],
   "source": [
    "# Define date range for analysis\n",
    "start_date = '2024-09-01'\n",
    "end_date = '2025-04-20'\n",
    "\n",
    "# Load Sentinel-2 image collection so that we can generate a timeseries of images\n",
    "collection = (ee.ImageCollection('COPERNICUS/S2_SR_HARMONIZED')\n",
    "              .filterBounds(palisades_fire)\n",
    "              .filterDate(start_date, end_date)\n",
    "              .filter(ee.Filter.lt('CLOUDY_PIXEL_PERCENTAGE', 20)))"
   ]
  },
  {
   "cell_type": "markdown",
   "metadata": {},
   "source": [
    "Calulate the NDVI/NDMI for each subregion"
   ]
  },
  {
   "cell_type": "code",
   "execution_count": 56,
   "metadata": {},
   "outputs": [
    {
     "data": {
      "text/html": [
       "\n",
       "            <style>\n",
       "                .geemap-dark {\n",
       "                    --jp-widgets-color: white;\n",
       "                    --jp-widgets-label-color: white;\n",
       "                    --jp-ui-font-color1: white;\n",
       "                    --jp-layout-color2: #454545;\n",
       "                    background-color: #383838;\n",
       "                }\n",
       "\n",
       "                .geemap-dark .jupyter-button {\n",
       "                    --jp-layout-color3: #383838;\n",
       "                }\n",
       "\n",
       "                .geemap-colab {\n",
       "                    background-color: var(--colab-primary-surface-color, white);\n",
       "                }\n",
       "\n",
       "                .geemap-colab .jupyter-button {\n",
       "                    --jp-layout-color3: var(--colab-primary-surface-color, white);\n",
       "                }\n",
       "            </style>\n",
       "            "
      ],
      "text/plain": [
       "<IPython.core.display.HTML object>"
      ]
     },
     "metadata": {},
     "output_type": "display_data"
    }
   ],
   "source": [
    "# Calculate both NDVI and NDMI for each image in subregion1\n",
    "index_features_subregion1 = collection.map(lambda image: spectral_indices.process_index(image, palisades_subregion1))\n",
    "index_results_subregion1 = index_features_subregion1.getInfo()\n",
    "\n",
    "# Initialize lists for subregion1 results\n",
    "dates_subregion1 = []\n",
    "ndvi_values_subregion1 = []\n",
    "ndmi_values_subregion1 = []\n",
    "\n",
    "# Collect results for subregion1 (NDVI and NDMI)\n",
    "for feature in index_results_subregion1['features']:\n",
    "    props = feature['properties']\n",
    "    date = props['date']\n",
    "    ndvi = props.get('mean_ndvi')\n",
    "    ndmi = props.get('mean_ndmi')\n",
    "\n",
    "    if ndvi is not None and ndmi is not None:\n",
    "        dates_subregion1.append(datetime.strptime(date, '%Y-%m-%d'))\n",
    "        ndvi_values_subregion1.append(ndvi)\n",
    "        ndmi_values_subregion1.append(ndmi)"
   ]
  },
  {
   "cell_type": "code",
   "execution_count": 57,
   "metadata": {},
   "outputs": [
    {
     "data": {
      "text/html": [
       "\n",
       "            <style>\n",
       "                .geemap-dark {\n",
       "                    --jp-widgets-color: white;\n",
       "                    --jp-widgets-label-color: white;\n",
       "                    --jp-ui-font-color1: white;\n",
       "                    --jp-layout-color2: #454545;\n",
       "                    background-color: #383838;\n",
       "                }\n",
       "\n",
       "                .geemap-dark .jupyter-button {\n",
       "                    --jp-layout-color3: #383838;\n",
       "                }\n",
       "\n",
       "                .geemap-colab {\n",
       "                    background-color: var(--colab-primary-surface-color, white);\n",
       "                }\n",
       "\n",
       "                .geemap-colab .jupyter-button {\n",
       "                    --jp-layout-color3: var(--colab-primary-surface-color, white);\n",
       "                }\n",
       "            </style>\n",
       "            "
      ],
      "text/plain": [
       "<IPython.core.display.HTML object>"
      ]
     },
     "metadata": {},
     "output_type": "display_data"
    }
   ],
   "source": [
    "# Calculate both NDVI and NDMI for each image in subregion2\n",
    "index_features_subregion2 = collection.map(lambda image: spectral_indices.process_index(image, palisades_subregion2))\n",
    "index_results_subregion2 = index_features_subregion2.getInfo()\n",
    "\n",
    "# Initialize lists for subregion2 results\n",
    "dates_subregion2 = []\n",
    "ndvi_values_subregion2 = []\n",
    "ndmi_values_subregion2 = []\n",
    "\n",
    "# Collect results for subregion2 (NDVI and NDMI)\n",
    "for feature in index_results_subregion2['features']:\n",
    "    props = feature['properties']\n",
    "    date = props['date']\n",
    "    ndvi = props.get('mean_ndvi')\n",
    "    ndmi = props.get('mean_ndmi')\n",
    "\n",
    "    if ndvi is not None and ndmi is not None:\n",
    "        dates_subregion2.append(datetime.strptime(date, '%Y-%m-%d'))\n",
    "        ndvi_values_subregion2.append(ndvi)\n",
    "        ndmi_values_subregion2.append(ndmi)"
   ]
  },
  {
   "cell_type": "markdown",
   "metadata": {},
   "source": [
    "Plot the mean NDVI/NDMI timeseries for each timeseries"
   ]
  },
  {
   "cell_type": "code",
   "execution_count": 58,
   "metadata": {},
   "outputs": [
    {
     "data": {
      "text/html": [
       "\n",
       "            <style>\n",
       "                .geemap-dark {\n",
       "                    --jp-widgets-color: white;\n",
       "                    --jp-widgets-label-color: white;\n",
       "                    --jp-ui-font-color1: white;\n",
       "                    --jp-layout-color2: #454545;\n",
       "                    background-color: #383838;\n",
       "                }\n",
       "\n",
       "                .geemap-dark .jupyter-button {\n",
       "                    --jp-layout-color3: #383838;\n",
       "                }\n",
       "\n",
       "                .geemap-colab {\n",
       "                    background-color: var(--colab-primary-surface-color, white);\n",
       "                }\n",
       "\n",
       "                .geemap-colab .jupyter-button {\n",
       "                    --jp-layout-color3: var(--colab-primary-surface-color, white);\n",
       "                }\n",
       "            </style>\n",
       "            "
      ],
      "text/plain": [
       "<IPython.core.display.HTML object>"
      ]
     },
     "metadata": {},
     "output_type": "display_data"
    },
    {
     "data": {
      "image/png": "[encoded data removed]",
      "text/plain": [
       "<Figure size 1000x400 with 1 Axes>"
      ]
     },
     "metadata": {},
     "output_type": "display_data"
    },
    {
     "data": {
      "image/png": "[encoded data removed]",
      "text/plain": [
       "<Figure size 1000x400 with 1 Axes>"
      ]
     },
     "metadata": {},
     "output_type": "display_data"
    }
   ],
   "source": [
    "# Fire start date\n",
    "fire_start = datetime(2025, 1, 7)\n",
    "\n",
    "# Plot NDVI for both subregions in one plot\n",
    "plt.figure(figsize=(10, 4))\n",
    "plt.plot(dates_subregion1, ndvi_values_subregion1, label='Subregion(1) NDVI', marker='o', linestyle='-', color='green')\n",
    "plt.plot(dates_subregion2, ndvi_values_subregion2, label='Subregion(2) NDVI', marker='x', linestyle='-', color='blue')\n",
    "plt.axvline(fire_start, color='red', linestyle='--')\n",
    "plt.xlabel('Date')\n",
    "plt.ylabel('Mean NDVI')\n",
    "plt.legend()\n",
    "plt.grid(True)\n",
    "plt.tight_layout()\n",
    "plt.show()\n",
    "\n",
    "# Plot NDMI for both subregions in one plot\n",
    "plt.figure(figsize=(10, 4))\n",
    "plt.plot(dates_subregion1, ndmi_values_subregion1, label='Subregion(1) NDMI', marker='o', linestyle='-', color='orange')\n",
    "plt.plot(dates_subregion2, ndmi_values_subregion2, label='Subregion(2) NDMI', marker='x', linestyle='-', color='purple')\n",
    "plt.axvline(fire_start, color='red', linestyle='--')\n",
    "plt.xlabel('Date')\n",
    "plt.ylabel('Mean NDMI')\n",
    "plt.legend()\n",
    "plt.grid(True)\n",
    "plt.tight_layout()\n",
    "plt.show()\n"
   ]
  },
  {
   "cell_type": "markdown",
   "metadata": {},
   "source": [
    "Generate a histogram of the dNBR values"
   ]
  },
  {
   "cell_type": "code",
   "execution_count": 59,
   "metadata": {},
   "outputs": [
    {
     "data": {
      "text/html": [
       "\n",
       "            <style>\n",
       "                .geemap-dark {\n",
       "                    --jp-widgets-color: white;\n",
       "                    --jp-widgets-label-color: white;\n",
       "                    --jp-ui-font-color1: white;\n",
       "                    --jp-layout-color2: #454545;\n",
       "                    background-color: #383838;\n",
       "                }\n",
       "\n",
       "                .geemap-dark .jupyter-button {\n",
       "                    --jp-layout-color3: #383838;\n",
       "                }\n",
       "\n",
       "                .geemap-colab {\n",
       "                    background-color: var(--colab-primary-surface-color, white);\n",
       "                }\n",
       "\n",
       "                .geemap-colab .jupyter-button {\n",
       "                    --jp-layout-color3: var(--colab-primary-surface-color, white);\n",
       "                }\n",
       "            </style>\n",
       "            "
      ],
      "text/plain": [
       "<IPython.core.display.HTML object>"
      ]
     },
     "metadata": {},
     "output_type": "display_data"
    }
   ],
   "source": [
    "dnbr_histogram = dNBR.reduceRegion(\n",
    "    reducer=ee.Reducer.histogram(),\n",
    "    scale=10,\n",
    "    maxPixels=1e13,\n",
    "    bestEffort=True  # Allow Earth Engine to handle large regions\n",
    ")\n",
    "\n",
    "# Retrieve the histogram data\n",
    "histogram_info = dnbr_histogram.getInfo()"
   ]
  },
  {
   "cell_type": "code",
   "execution_count": 66,
   "metadata": {},
   "outputs": [
    {
     "data": {
      "text/html": [
       "\n",
       "            <style>\n",
       "                .geemap-dark {\n",
       "                    --jp-widgets-color: white;\n",
       "                    --jp-widgets-label-color: white;\n",
       "                    --jp-ui-font-color1: white;\n",
       "                    --jp-layout-color2: #454545;\n",
       "                    background-color: #383838;\n",
       "                }\n",
       "\n",
       "                .geemap-dark .jupyter-button {\n",
       "                    --jp-layout-color3: #383838;\n",
       "                }\n",
       "\n",
       "                .geemap-colab {\n",
       "                    background-color: var(--colab-primary-surface-color, white);\n",
       "                }\n",
       "\n",
       "                .geemap-colab .jupyter-button {\n",
       "                    --jp-layout-color3: var(--colab-primary-surface-color, white);\n",
       "                }\n",
       "            </style>\n",
       "            "
      ],
      "text/plain": [
       "<IPython.core.display.HTML object>"
      ]
     },
     "metadata": {},
     "output_type": "display_data"
    },
    {
     "data": {
      "image/png": "[encoded data removed]",
      "text/plain": [
       "<Figure size 1000x500 with 1 Axes>"
      ]
     },
     "metadata": {},
     "output_type": "display_data"
    }
   ],
   "source": [
    "# Extract the histogram data\n",
    "bucket_means = histogram_info['dNBR']['bucketMeans']\n",
    "counts = histogram_info['dNBR']['histogram']\n",
    "\n",
    "# Plot the histogram\n",
    "plt.figure(figsize=(10, 5))\n",
    "plt.bar(bucket_means, counts, width=0.01, color='blue', alpha=0.7) \n",
    "plt.xlabel('dNBR Value')\n",
    "plt.ylabel('Count')\n",
    "plt.title('Histogram of dNBR Values')\n",
    "plt.show()\n"
   ]
  },
  {
   "cell_type": "markdown",
   "metadata": {},
   "source": [
    "Apply simple thresholding to the dNBR values to generate a burned/unburned region"
   ]
  },
  {
   "cell_type": "code",
   "execution_count": 61,
   "metadata": {},
   "outputs": [
    {
     "data": {
      "text/html": [
       "\n",
       "            <style>\n",
       "                .geemap-dark {\n",
       "                    --jp-widgets-color: white;\n",
       "                    --jp-widgets-label-color: white;\n",
       "                    --jp-ui-font-color1: white;\n",
       "                    --jp-layout-color2: #454545;\n",
       "                    background-color: #383838;\n",
       "                }\n",
       "\n",
       "                .geemap-dark .jupyter-button {\n",
       "                    --jp-layout-color3: #383838;\n",
       "                }\n",
       "\n",
       "                .geemap-colab {\n",
       "                    background-color: var(--colab-primary-surface-color, white);\n",
       "                }\n",
       "\n",
       "                .geemap-colab .jupyter-button {\n",
       "                    --jp-layout-color3: var(--colab-primary-surface-color, white);\n",
       "                }\n",
       "            </style>\n",
       "            "
      ],
      "text/plain": [
       "<IPython.core.display.HTML object>"
      ]
     },
     "metadata": {},
     "output_type": "display_data"
    }
   ],
   "source": [
    "# Set the threshold for classification\n",
    "threshold = 0.26  # Adjust if needed\n",
    "\n",
    "# Create a mask for burned areas (dNBR >= 0.26)\n",
    "burned_mask = dNBR.gt(threshold)\n",
    "\n",
    "# Mask the dNBR image to isolate burned areas\n",
    "burned_region = dNBR.updateMask(burned_mask)\n",
    "\n",
    "# Create a mask for non-burned areas (dNBR <= 0.26)\n",
    "non_burned_mask = dNBR.lte(threshold)\n",
    "\n",
    "# Mask the dNBR image to isolate non-burned areas\n",
    "non_burned_region = dNBR.updateMask(non_burned_mask)"
   ]
  },
  {
   "cell_type": "markdown",
   "metadata": {},
   "source": [
    "Plot the thresholded distribution to check we are masking correct pixels"
   ]
  },
  {
   "cell_type": "code",
   "execution_count": 62,
   "metadata": {},
   "outputs": [
    {
     "data": {
      "text/html": [
       "\n",
       "            <style>\n",
       "                .geemap-dark {\n",
       "                    --jp-widgets-color: white;\n",
       "                    --jp-widgets-label-color: white;\n",
       "                    --jp-ui-font-color1: white;\n",
       "                    --jp-layout-color2: #454545;\n",
       "                    background-color: #383838;\n",
       "                }\n",
       "\n",
       "                .geemap-dark .jupyter-button {\n",
       "                    --jp-layout-color3: #383838;\n",
       "                }\n",
       "\n",
       "                .geemap-colab {\n",
       "                    background-color: var(--colab-primary-surface-color, white);\n",
       "                }\n",
       "\n",
       "                .geemap-colab .jupyter-button {\n",
       "                    --jp-layout-color3: var(--colab-primary-surface-color, white);\n",
       "                }\n",
       "            </style>\n",
       "            "
      ],
      "text/plain": [
       "<IPython.core.display.HTML object>"
      ]
     },
     "metadata": {},
     "output_type": "display_data"
    },
    {
     "data": {
      "image/png": "[encoded data removed]",
      "text/plain": [
       "<Figure size 1000x400 with 1 Axes>"
      ]
     },
     "metadata": {},
     "output_type": "display_data"
    },
    {
     "data": {
      "image/png": "[encoded data removed]",
      "text/plain": [
       "<Figure size 1000x400 with 1 Axes>"
      ]
     },
     "metadata": {},
     "output_type": "display_data"
    }
   ],
   "source": [
    "# Visualize the dNBR values (pre-threshold) to see the distribution\n",
    "bucket_means = histogram_info['dNBR']['bucketMeans']\n",
    "counts = histogram_info['dNBR']['histogram']\n",
    "\n",
    "# Plot the pre-threshold histogram\n",
    "plt.figure(figsize=(10, 4))\n",
    "plt.bar(bucket_means, counts, width=0.01, color='blue', alpha=0.7, label='Pre-Threshold')\n",
    "plt.axvline(x=threshold, color='red', linestyle='--', label=f'Threshold = {threshold}')\n",
    "plt.xlabel('dNBR Value')\n",
    "plt.ylabel('Count')\n",
    "plt.title('Histogram of dNBR Values (Pre-Threshold)')\n",
    "plt.legend()\n",
    "plt.show()\n",
    "\n",
    "burned_counts = []\n",
    "burned_means = []\n",
    "\n",
    "for mean, count in zip(bucket_means, counts):\n",
    "    if mean > threshold:\n",
    "        burned_means.append(mean)\n",
    "        burned_counts.append(count)\n",
    "\n",
    "# Plot the histogram of the burned area only (post-threshold)\n",
    "plt.figure(figsize=(10, 4))\n",
    "plt.bar(burned_means, burned_counts, width=0.01, color='red', alpha=0.7, label='Post-Threshold (Burned)')\n",
    "plt.axvline(x=threshold, color='black', linestyle='--', label=f'Threshold = {threshold}')\n",
    "plt.xlabel('dNBR Value')\n",
    "plt.ylabel('Count')\n",
    "plt.title(f'Histogram of dNBR Values (Post-Threshold, Burned Areas Only)')\n",
    "plt.legend()\n",
    "plt.show()"
   ]
  },
  {
   "cell_type": "markdown",
   "metadata": {},
   "source": [
    "Add the burned/unburned masked layers to the map"
   ]
  },
  {
   "cell_type": "code",
   "execution_count": 63,
   "metadata": {},
   "outputs": [
    {
     "data": {
      "text/html": [
       "\n",
       "            <style>\n",
       "                .geemap-dark {\n",
       "                    --jp-widgets-color: white;\n",
       "                    --jp-widgets-label-color: white;\n",
       "                    --jp-ui-font-color1: white;\n",
       "                    --jp-layout-color2: #454545;\n",
       "                    background-color: #383838;\n",
       "                }\n",
       "\n",
       "                .geemap-dark .jupyter-button {\n",
       "                    --jp-layout-color3: #383838;\n",
       "                }\n",
       "\n",
       "                .geemap-colab {\n",
       "                    background-color: var(--colab-primary-surface-color, white);\n",
       "                }\n",
       "\n",
       "                .geemap-colab .jupyter-button {\n",
       "                    --jp-layout-color3: var(--colab-primary-surface-color, white);\n",
       "                }\n",
       "            </style>\n",
       "            "
      ],
      "text/plain": [
       "<IPython.core.display.HTML object>"
      ]
     },
     "metadata": {},
     "output_type": "display_data"
    },
    {
     "data": {
      "application/vnd.jupyter.widget-view+json": {
       "model_id": "7f54d5829946406cb24ad629e97e9cf2",
       "version_major": 2,
       "version_minor": 0
      },
      "text/plain": [
       "Map(center=[34.08069, -118.616274], controls=(WidgetControl(options=['position', 'transparent_bg'], widget=Sea…"
      ]
     },
     "metadata": {},
     "output_type": "display_data"
    }
   ],
   "source": [
    "# Create Map\n",
    "Map = geemap.Map()\n",
    "\n",
    "# Update center to Los Angeles\n",
    "Map.setCenter(-118.616274, 34.080690, 12)  \n",
    "\n",
    "# Add the polygon to the map with a red border and transparent fill\n",
    "Map.addLayer(pf_fc.style(**vis.vis_large_polygon), {}, 'Palisades Fire')\n",
    "\n",
    "Map.addLayer(dNBR, vis.dNBR_vis_params, 'dNBR (Burn Severity)')\n",
    "# Visualize the burned area\n",
    "Map.addLayer(burned_region, vis.burned_region_params, 'Burned Area')\n",
    "# Visualize the non-burned area\n",
    "Map.addLayer(non_burned_region, vis.non_burned_region_params, 'Non-Burned Area')\n",
    "\n",
    "# Show the map\n",
    "Map"
   ]
  },
  {
   "cell_type": "markdown",
   "metadata": {},
   "source": [
    "Finally, calculate an estimate of the area of the burnt region"
   ]
  },
  {
   "cell_type": "code",
   "execution_count": 64,
   "metadata": {},
   "outputs": [
    {
     "data": {
      "text/html": [
       "\n",
       "            <style>\n",
       "                .geemap-dark {\n",
       "                    --jp-widgets-color: white;\n",
       "                    --jp-widgets-label-color: white;\n",
       "                    --jp-ui-font-color1: white;\n",
       "                    --jp-layout-color2: #454545;\n",
       "                    background-color: #383838;\n",
       "                }\n",
       "\n",
       "                .geemap-dark .jupyter-button {\n",
       "                    --jp-layout-color3: #383838;\n",
       "                }\n",
       "\n",
       "                .geemap-colab {\n",
       "                    background-color: var(--colab-primary-surface-color, white);\n",
       "                }\n",
       "\n",
       "                .geemap-colab .jupyter-button {\n",
       "                    --jp-layout-color3: var(--colab-primary-surface-color, white);\n",
       "                }\n",
       "            </style>\n",
       "            "
      ],
      "text/plain": [
       "<IPython.core.display.HTML object>"
      ]
     },
     "metadata": {},
     "output_type": "display_data"
    },
    {
     "name": "stdout",
     "output_type": "stream",
     "text": [
      "Burned Area: 58.51 km²\n"
     ]
    }
   ],
   "source": [
    "# Calculate the area of burned regions\n",
    "burned_area = burned_region.multiply(ee.Image.pixelArea())  # Multiply by pixel area to get area in square meters\n",
    "burned_area_stats = burned_area.reduceRegion(\n",
    "    reducer=ee.Reducer.sum(),\n",
    "    geometry=palisades_fire,  # Use the fire boundary as the region\n",
    "    scale=10,  # Scale in meters\n",
    "    maxPixels=1e13\n",
    ")\n",
    "\n",
    "# Retrieve the results\n",
    "burned_area_m2 = burned_area_stats.getInfo().get('dNBR')\n",
    "\n",
    "# Convert to square kilometers (1 km² = 1,000,000 m²)\n",
    "burned_area_km2 = burned_area_m2 / 1e6\n",
    "\n",
    "# Print the results\n",
    "print(f\"Burned Area: {burned_area_km2:.2f} km²\")"
   ]
  }
 ],
 "metadata": {
  "kernelspec": {
   "display_name": "geospatial-env",
   "language": "python",
   "name": "python3"
  },
  "language_info": {
   "codemirror_mode": {
    "name": "ipython",
    "version": 3
   },
   "file_extension": ".py",
   "mimetype": "text/x-python",
   "name": "python",
   "nbconvert_exporter": "python",
   "pygments_lexer": "ipython3",
   "version": "3.12.7"
  }
 },
 "nbformat": 4,
 "nbformat_minor": 2
}
